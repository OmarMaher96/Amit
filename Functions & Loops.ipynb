{
 "cells": [
  {
   "cell_type": "markdown",
   "id": "de885714",
   "metadata": {},
   "source": [
    "# user --> 1- name 2- age 3- phone number\n"
   ]
  },
  {
   "cell_type": "code",
   "execution_count": 9,
   "id": "80b04f16",
   "metadata": {},
   "outputs": [
    {
     "name": "stdout",
     "output_type": "stream",
     "text": [
      "enter your name: O\n",
      "enter your age: 26\n",
      "enter your phone number3121\n",
      "your name is: O your age is: 26  your phone number is:  3121\n"
     ]
    }
   ],
   "source": [
    "name= input(\"enter your name: \")\n",
    "age= int(input(\"enter your age: \"))\n",
    "phone= int(input(\"enter your phone number\"))\n",
    "\n",
    "print(\"your name is:\",name , \"your age is:\",age ,\" your phone number is: \",phone)"
   ]
  },
  {
   "cell_type": "code",
   "execution_count": 5,
   "id": "2dfb6ff3",
   "metadata": {},
   "outputs": [
    {
     "name": "stdout",
     "output_type": "stream",
     "text": [
      "enter your name: O\n",
      "enter your age: 26\n",
      "enter your phone number0127388023\n",
      "your name is: O, your age is: 26, your phone number is: 127388023 \n"
     ]
    }
   ],
   "source": [
    "name= input(\"enter your name: \")\n",
    "age= int(input(\"enter your age: \"))\n",
    "phone= int(input(\"enter your phone number\"))\n",
    "\n",
    "print(\"your name is: {}, your age is: {}, your phone number is: {} \".format(name,age,phone))"
   ]
  },
  {
   "cell_type": "code",
   "execution_count": 6,
   "id": "6a3bb5b6",
   "metadata": {},
   "outputs": [
    {
     "name": "stdout",
     "output_type": "stream",
     "text": [
      "enter your name: Omar\n",
      "enter your age: 26\n",
      "enter your number: 566546165\n",
      "your name: Omar, your age is: 26, your phone number is: 566546165\n"
     ]
    }
   ],
   "source": [
    "def data(name,age,phone):\n",
    "    print(\"your name: {}, your age is: {}, your phone number is: {}\".format(name,age,phone))\n",
    "username= input(\"enter your name: \")\n",
    "AGE= int(input(\"enter your age: \"))\n",
    "Phone_number= int(input(\"enter your number: \"))\n",
    "\n",
    "\n",
    "data(username,AGE,Phone_number)"
   ]
  },
  {
   "cell_type": "code",
   "execution_count": 8,
   "id": "468b7c43",
   "metadata": {},
   "outputs": [
    {
     "name": "stdout",
     "output_type": "stream",
     "text": [
      "enter your name: O\n",
      "enter your age: 545\n",
      "enter your number: 64654654\n",
      "your name: , your age is: , your phone number is:  ('O', 545, 64654654)\n"
     ]
    }
   ],
   "source": [
    "def data(name,age,phone):\n",
    "    print(\"your name: , your age is: , your phone number is: \",(name,age,phone))\n",
    "username= input(\"enter your name: \")\n",
    "AGE= int(input(\"enter your age: \"))\n",
    "Phone_number= int(input(\"enter your number: \"))\n",
    "\n",
    "\n",
    "data(username,AGE,Phone_number)"
   ]
  },
  {
   "cell_type": "markdown",
   "id": "a5b0c3fd",
   "metadata": {},
   "source": [
    "# global variable & local variable"
   ]
  },
  {
   "cell_type": "code",
   "execution_count": 13,
   "id": "2cc175fb",
   "metadata": {},
   "outputs": [
    {
     "name": "stdout",
     "output_type": "stream",
     "text": [
      "6\n"
     ]
    }
   ],
   "source": [
    "x= 5\n",
    "def amit():\n",
    "    x=6\n",
    "    print(x)\n",
    "amit()    "
   ]
  },
  {
   "cell_type": "code",
   "execution_count": null,
   "id": "eead7c36",
   "metadata": {},
   "outputs": [],
   "source": []
  },
  {
   "cell_type": "code",
   "execution_count": null,
   "id": "ffdc6e41",
   "metadata": {},
   "outputs": [],
   "source": []
  },
  {
   "cell_type": "code",
   "execution_count": null,
   "id": "23b11c71",
   "metadata": {},
   "outputs": [],
   "source": []
  },
  {
   "cell_type": "markdown",
   "id": "495833e1",
   "metadata": {},
   "source": [
    "# Loops\n"
   ]
  },
  {
   "cell_type": "code",
   "execution_count": 1,
   "id": "0084336f",
   "metadata": {},
   "outputs": [
    {
     "name": "stdout",
     "output_type": "stream",
     "text": [
      "amit\n",
      "learning\n",
      "python\n"
     ]
    }
   ],
   "source": [
    "x=[\"amit\",\"learning\",\"python\"]\n",
    "\n",
    "print(x[0])\n",
    "print(x[1])\n",
    "print(x[2])\n"
   ]
  },
  {
   "cell_type": "code",
   "execution_count": 4,
   "id": "85b489b7",
   "metadata": {},
   "outputs": [
    {
     "name": "stdout",
     "output_type": "stream",
     "text": [
      "['amit', 'learning', 'python']\n",
      "['amit', 'learning', 'python']\n",
      "['amit', 'learning', 'python']\n"
     ]
    }
   ],
   "source": [
    "#print values using for loop\n",
    "\n",
    "x=[\"amit\",\"learning\",\"python\"]\n",
    "\n",
    "for a in x:\n",
    "    print(x)"
   ]
  },
  {
   "cell_type": "code",
   "execution_count": 8,
   "id": "f77cf033",
   "metadata": {},
   "outputs": [
    {
     "name": "stdout",
     "output_type": "stream",
     "text": [
      "amit\n",
      "learning\n",
      "python\n"
     ]
    }
   ],
   "source": [
    "#print values using for loop\n",
    "\n",
    "x=[\"amit\",\"learning\",\"python\"]\n",
    "\n",
    "for a in x:\n",
    "    print(a)"
   ]
  },
  {
   "cell_type": "code",
   "execution_count": 7,
   "id": "db3a30d0",
   "metadata": {},
   "outputs": [
    {
     "name": "stdout",
     "output_type": "stream",
     "text": [
      "variable of a: amit\n",
      "variable of a: learning\n",
      "variable of a: python\n"
     ]
    }
   ],
   "source": [
    "x=[\"amit\",\"learning\",\"python\"]\n",
    "\n",
    "for a in x:\n",
    "    print(\"variable of a:\",a)"
   ]
  },
  {
   "cell_type": "code",
   "execution_count": 10,
   "id": "49e3e6f3",
   "metadata": {},
   "outputs": [
    {
     "name": "stdout",
     "output_type": "stream",
     "text": [
      "a\n",
      "m\n",
      "i\n",
      "t\n"
     ]
    }
   ],
   "source": [
    "for x in \"amit\":\n",
    "    print(x)"
   ]
  },
  {
   "cell_type": "code",
   "execution_count": 12,
   "id": "55c56e5f",
   "metadata": {},
   "outputs": [
    {
     "name": "stdout",
     "output_type": "stream",
     "text": [
      "amit\n"
     ]
    }
   ],
   "source": [
    "for x in[\"amit\"]:\n",
    "    print(x)"
   ]
  },
  {
   "cell_type": "code",
   "execution_count": 13,
   "id": "5dfa3b9e",
   "metadata": {},
   "outputs": [
    {
     "name": "stdout",
     "output_type": "stream",
     "text": [
      "a\n",
      "m\n",
      "i\n",
      "t\n"
     ]
    }
   ],
   "source": [
    "for x in (\"amit\"):\n",
    "    print(x)"
   ]
  },
  {
   "cell_type": "code",
   "execution_count": 14,
   "id": "f29ccac2",
   "metadata": {},
   "outputs": [
    {
     "name": "stdout",
     "output_type": "stream",
     "text": [
      "amit\n"
     ]
    }
   ],
   "source": [
    "for x in (\"amit\",):\n",
    "    print(x)\n"
   ]
  },
  {
   "cell_type": "markdown",
   "id": "21370042",
   "metadata": {},
   "source": [
    "# Break & Continous"
   ]
  },
  {
   "cell_type": "code",
   "execution_count": 23,
   "id": "64a9d3e3",
   "metadata": {},
   "outputs": [
    {
     "name": "stdout",
     "output_type": "stream",
     "text": [
      "done\n",
      "m\n",
      "i\n",
      "t\n"
     ]
    }
   ],
   "source": [
    "for x in \"amit\":\n",
    "    if x==\"a\":\n",
    "        print(\"done\")\n",
    "    else:\n",
    "        print (x)"
   ]
  },
  {
   "cell_type": "code",
   "execution_count": 24,
   "id": "e16be8fa",
   "metadata": {},
   "outputs": [
    {
     "name": "stdout",
     "output_type": "stream",
     "text": [
      "a\n",
      "m\n",
      "done\n",
      "t\n"
     ]
    }
   ],
   "source": [
    "for x in \"amit\":\n",
    "    if x==\"i\":\n",
    "        print(\"done\")\n",
    "    else:\n",
    "        print (x)\n",
    "        \n",
    "        #output:\n",
    "        # a\n",
    "        # m\n",
    "        # done\n",
    "        # t\n",
    "        "
   ]
  },
  {
   "cell_type": "code",
   "execution_count": 26,
   "id": "5e1bf41e",
   "metadata": {},
   "outputs": [
    {
     "name": "stdout",
     "output_type": "stream",
     "text": [
      "amit\n",
      "amit\n"
     ]
    }
   ],
   "source": [
    "for x in [\"amit\",\"amit\"]:\n",
    "    if x==\"t\":\n",
    "        print(\"done\")\n",
    "    else: \n",
    "        print(x)"
   ]
  },
  {
   "cell_type": "code",
   "execution_count": 27,
   "id": "db513dc8",
   "metadata": {},
   "outputs": [
    {
     "name": "stdout",
     "output_type": "stream",
     "text": [
      "a\n",
      "m\n",
      "i\n",
      "done\n"
     ]
    }
   ],
   "source": [
    "for x in (\"amit\"):\n",
    "    if x==\"t\":\n",
    "        print(\"done\")\n",
    "    else: \n",
    "        print(x)"
   ]
  },
  {
   "cell_type": "code",
   "execution_count": 28,
   "id": "f8f226ca",
   "metadata": {},
   "outputs": [
    {
     "name": "stdout",
     "output_type": "stream",
     "text": [
      "amit\n"
     ]
    }
   ],
   "source": [
    "for x in (\"amit\",):\n",
    "    if x==\"t\":\n",
    "        print(\"done\")\n",
    "    else: \n",
    "        print(x)"
   ]
  },
  {
   "cell_type": "code",
   "execution_count": 35,
   "id": "c5ac4658",
   "metadata": {},
   "outputs": [
    {
     "name": "stdout",
     "output_type": "stream",
     "text": [
      "a\n",
      "amit learning\n"
     ]
    }
   ],
   "source": [
    "for x in (\"amit\"):\n",
    "    if x==\"m\":\n",
    "        break\n",
    "    else: \n",
    "        print(x)\n",
    "print(\"amit learning\")        "
   ]
  },
  {
   "cell_type": "code",
   "execution_count": 40,
   "id": "13cc38ea",
   "metadata": {},
   "outputs": [
    {
     "name": "stdout",
     "output_type": "stream",
     "text": [
      "m\n",
      "i\n",
      "t\n",
      ",\n",
      "l\n",
      "e\n",
      "r\n",
      "n\n",
      "i\n",
      "n\n",
      "g\n"
     ]
    }
   ],
   "source": [
    "for x in (\"amit,learning\"):\n",
    "    if x==\"a\":\n",
    "        continue\n",
    "    else: \n",
    "        print(x)\n",
    "#print(\"amit learning\")        "
   ]
  },
  {
   "cell_type": "code",
   "execution_count": 42,
   "id": "7b429bbc",
   "metadata": {},
   "outputs": [
    {
     "name": "stdout",
     "output_type": "stream",
     "text": [
      "amit,learning\n"
     ]
    }
   ],
   "source": [
    "for x in (\"amit,learning\", \"amit\"):\n",
    "    if x==\"amit\":\n",
    "        continue\n",
    "    else: \n",
    "        print(x)\n",
    "      "
   ]
  },
  {
   "cell_type": "code",
   "execution_count": 45,
   "id": "58ce2afd",
   "metadata": {},
   "outputs": [
    {
     "name": "stdout",
     "output_type": "stream",
     "text": [
      "a\n",
      "b\n",
      "c\n",
      "d\n",
      "m\n"
     ]
    }
   ],
   "source": [
    "for x in (\"a\",\"b\",\"i\",\"c\",\"d\",\"i\",\"m\"):\n",
    "    if x==\"i\":\n",
    "        continue\n",
    "        \n",
    "    else:\n",
    "        print(x)"
   ]
  },
  {
   "cell_type": "markdown",
   "id": "e000914d",
   "metadata": {},
   "source": [
    "# Check output\n"
   ]
  },
  {
   "cell_type": "code",
   "execution_count": 49,
   "id": "b53a4360",
   "metadata": {},
   "outputs": [
    {
     "name": "stdout",
     "output_type": "stream",
     "text": [
      "amit\n",
      "learning\n",
      "python\n"
     ]
    }
   ],
   "source": [
    "x=[\"amit\",\"learning\",\"python\"]\n",
    "for q in x:\n",
    "    print(q)\n",
    "    if q==\"learning\":\n",
    "        continue"
   ]
  },
  {
   "cell_type": "code",
   "execution_count": 50,
   "id": "9540fb97",
   "metadata": {},
   "outputs": [
    {
     "name": "stdout",
     "output_type": "stream",
     "text": [
      "amit\n",
      "python\n"
     ]
    }
   ],
   "source": [
    "x=[\"amit\",\"learning\",\"python\"]\n",
    "for q in x:\n",
    "    if q==\"learning\":\n",
    "        continue\n",
    "    print(q)"
   ]
  },
  {
   "cell_type": "code",
   "execution_count": 52,
   "id": "e217d07a",
   "metadata": {},
   "outputs": [
    {
     "name": "stdout",
     "output_type": "stream",
     "text": [
      "learning\n"
     ]
    }
   ],
   "source": [
    "x=[\"amit\",\"learning\",\"python\"]\n",
    "for q in x:\n",
    "    if q==\"learning\":\n",
    "        print(q)\n",
    "        continue\n",
    "        "
   ]
  },
  {
   "cell_type": "markdown",
   "id": "a28dc785",
   "metadata": {},
   "source": [
    "# Range "
   ]
  },
  {
   "cell_type": "code",
   "execution_count": 53,
   "id": "fb5368d7",
   "metadata": {},
   "outputs": [
    {
     "name": "stdout",
     "output_type": "stream",
     "text": [
      "0\n",
      "1\n",
      "2\n",
      "3\n",
      "4\n",
      "5\n"
     ]
    }
   ],
   "source": [
    "for x in range(6):\n",
    "    print(x)"
   ]
  },
  {
   "cell_type": "code",
   "execution_count": 54,
   "id": "d26e9e98",
   "metadata": {},
   "outputs": [
    {
     "name": "stdout",
     "output_type": "stream",
     "text": [
      "2\n",
      "4\n",
      "6\n",
      "8\n"
     ]
    }
   ],
   "source": [
    "for x in range(2,10,2):\n",
    "    print(x)"
   ]
  },
  {
   "cell_type": "code",
   "execution_count": 58,
   "id": "4ce91dce",
   "metadata": {},
   "outputs": [
    {
     "name": "stdout",
     "output_type": "stream",
     "text": [
      "0\n",
      "1\n",
      "2\n",
      "3\n",
      "4\n",
      "5\n"
     ]
    }
   ],
   "source": [
    "for x in range(6):\n",
    "    print(x)\n"
   ]
  },
  {
   "cell_type": "code",
   "execution_count": 57,
   "id": "6f3a88f0",
   "metadata": {},
   "outputs": [
    {
     "name": "stdout",
     "output_type": "stream",
     "text": [
      "0\n",
      "1\n",
      "2\n",
      "3\n",
      "4\n",
      "5\n",
      "finish\n"
     ]
    }
   ],
   "source": [
    "for x in range(6):\n",
    "    print(x)\n",
    "else:\n",
    "    print(\"finish\")\n",
    "    \n"
   ]
  },
  {
   "cell_type": "code",
   "execution_count": 67,
   "id": "611ab047",
   "metadata": {},
   "outputs": [],
   "source": [
    "for x in range(6):\n",
    "    if x==3:\n",
    "        break\n",
    "        print(x)\n",
    " # lma el for loop t5ls ---> el else betshta3'al        \n",
    "else:\n",
    "    print(\"finish\")\n",
    "        "
   ]
  },
  {
   "cell_type": "code",
   "execution_count": 64,
   "id": "718e0a8b",
   "metadata": {},
   "outputs": [
    {
     "name": "stdout",
     "output_type": "stream",
     "text": [
      "finish\n",
      "finish\n",
      "finish\n"
     ]
    }
   ],
   "source": [
    "for x in range(6):\n",
    "    if x==3:\n",
    "        break\n",
    "        print(X)\n",
    "    else:\n",
    "         print(\"finish\")\n",
    "        "
   ]
  },
  {
   "cell_type": "code",
   "execution_count": 66,
   "id": "ecb741b3",
   "metadata": {},
   "outputs": [
    {
     "name": "stdout",
     "output_type": "stream",
     "text": [
      "3\n"
     ]
    }
   ],
   "source": [
    "for x in range(6):\n",
    "    if x==3:\n",
    "        print(x)\n",
    "        break\n",
    "        \n",
    " # lma el for loop t5ls ---> el else betshta3'al        \n",
    "else:\n",
    "    print(\"finish\")\n",
    "        "
   ]
  },
  {
   "cell_type": "code",
   "execution_count": 68,
   "id": "3656d109",
   "metadata": {},
   "outputs": [
    {
     "name": "stdout",
     "output_type": "stream",
     "text": [
      "finish\n",
      "finish\n",
      "finish\n",
      "3\n",
      "finish\n",
      "finish\n"
     ]
    }
   ],
   "source": [
    "for x in range(6):\n",
    "    if x==3:\n",
    "        print(x)\n",
    "        continue\n",
    "    else:\n",
    "         print(\"finish\")\n",
    "        "
   ]
  },
  {
   "cell_type": "code",
   "execution_count": 69,
   "id": "51462fa7",
   "metadata": {},
   "outputs": [
    {
     "name": "stdout",
     "output_type": "stream",
     "text": [
      "finish\n",
      "finish\n",
      "finish\n",
      "finish\n",
      "finish\n",
      "break\n"
     ]
    }
   ],
   "source": [
    "for x in range(6):\n",
    "    if x==3:\n",
    "        continue\n",
    "        print(x)\n",
    "    else:\n",
    "         print(\"finish\")\n",
    "else:\n",
    "    print(\"break\")"
   ]
  },
  {
   "cell_type": "code",
   "execution_count": 72,
   "id": "172833f4",
   "metadata": {},
   "outputs": [
    {
     "name": "stdout",
     "output_type": "stream",
     "text": [
      "amit amit\n",
      "amit learning\n",
      "amit python\n",
      "learning amit\n",
      "learning learning\n",
      "learning python\n",
      "python amit\n",
      "python learning\n",
      "python python\n"
     ]
    }
   ],
   "source": [
    "x= [\"amit\",\"learning\",\"python\"]\n",
    "y= [\"amit\",\"learning\",\"python\"]\n",
    "\n",
    "for a in x:\n",
    "    for b in y:\n",
    "        print(a,b)\n",
    "        "
   ]
  },
  {
   "cell_type": "markdown",
   "id": "d21de0e2",
   "metadata": {},
   "source": [
    "# Nested Loop\n"
   ]
  },
  {
   "cell_type": "code",
   "execution_count": 75,
   "id": "27f49b7a",
   "metadata": {
    "scrolled": true
   },
   "outputs": [
    {
     "name": "stdout",
     "output_type": "stream",
     "text": [
      "ss\n",
      "amit\n",
      "ss\n",
      "learning\n",
      "ss\n",
      "python\n",
      "KK\n",
      "amit\n",
      "KK\n",
      "learning\n",
      "KK\n",
      "python\n",
      "TT\n",
      "amit\n",
      "TT\n",
      "learning\n",
      "TT\n",
      "python\n"
     ]
    }
   ],
   "source": [
    "x= [\"ss\",\"KK\",\"TT\"]\n",
    "y= [\"amit\",\"learning\",\"python\"]\n",
    "\n",
    "for a in x:\n",
    "    for b in y:\n",
    "        print(a)\n",
    "        print(b)"
   ]
  },
  {
   "cell_type": "code",
   "execution_count": 73,
   "id": "e3301fdd",
   "metadata": {},
   "outputs": [
    {
     "name": "stdout",
     "output_type": "stream",
     "text": [
      "ss\n",
      "amit\n",
      "learning\n",
      "python\n",
      "tt\n",
      "amit\n",
      "learning\n",
      "python\n",
      "kk\n",
      "amit\n",
      "learning\n",
      "python\n"
     ]
    }
   ],
   "source": [
    "x= [\"ss\",\"tt\",\"kk\"]\n",
    "y= [\"amit\",\"learning\",\"python\"]\n",
    "\n",
    "for a in (x):\n",
    "    print(a)\n",
    "    for b in y:\n",
    "        print(b)"
   ]
  },
  {
   "cell_type": "markdown",
   "id": "d174cec1",
   "metadata": {},
   "source": [
    "# while\n"
   ]
  },
  {
   "cell_type": "code",
   "execution_count": 80,
   "id": "d88e2964",
   "metadata": {},
   "outputs": [
    {
     "name": "stdout",
     "output_type": "stream",
     "text": [
      "yes\n",
      "yes\n",
      "yes\n",
      "yes\n",
      "yes\n"
     ]
    }
   ],
   "source": [
    "x= 5\n",
    "while x>0:\n",
    "    print(\"yes\")\n",
    "    # x= x-1 same like x-= 1\n",
    "    x-= 1"
   ]
  },
  {
   "cell_type": "code",
   "execution_count": 81,
   "id": "ebe6e6b6",
   "metadata": {},
   "outputs": [
    {
     "name": "stdout",
     "output_type": "stream",
     "text": [
      "yes\n",
      "yes\n",
      "yes\n",
      "yes\n",
      "yes\n"
     ]
    }
   ],
   "source": [
    "for x in range (5):\n",
    "    print(\"yes\")"
   ]
  },
  {
   "cell_type": "code",
   "execution_count": 82,
   "id": "83d889fc",
   "metadata": {},
   "outputs": [
    {
     "name": "stdout",
     "output_type": "stream",
     "text": [
      "Hello Geek\n",
      "Hello Geek\n",
      "Hello Geek\n"
     ]
    }
   ],
   "source": [
    "count= 0\n",
    "while (count < 3):\n",
    "    count= count + 1\n",
    "    print(\"Hello Geek\")"
   ]
  },
  {
   "cell_type": "code",
   "execution_count": 83,
   "id": "aeaf12de",
   "metadata": {},
   "outputs": [
    {
     "name": "stdout",
     "output_type": "stream",
     "text": [
      "4\n"
     ]
    }
   ],
   "source": [
    "x= 5\n",
    "while (x>0):\n",
    "    x-=1\n",
    "    if x == 3:\n",
    "        break \n",
    "    else:\n",
    "        print(x)"
   ]
  },
  {
   "cell_type": "code",
   "execution_count": 86,
   "id": "6dc7feff",
   "metadata": {},
   "outputs": [
    {
     "name": "stdout",
     "output_type": "stream",
     "text": [
      "4\n",
      "2\n",
      "1\n",
      "0\n"
     ]
    }
   ],
   "source": [
    "x= 5\n",
    "while (x>0):\n",
    "    x-=1\n",
    "    if x == 3:\n",
    "        continue \n",
    "    else:\n",
    "        print(x)"
   ]
  },
  {
   "cell_type": "markdown",
   "id": "060fd100",
   "metadata": {},
   "source": [
    "# Function"
   ]
  },
  {
   "cell_type": "code",
   "execution_count": 87,
   "id": "e05d7470",
   "metadata": {},
   "outputs": [
    {
     "name": "stdout",
     "output_type": "stream",
     "text": [
      "hello world\n"
     ]
    }
   ],
   "source": [
    "print(\"hello world\")"
   ]
  },
  {
   "cell_type": "code",
   "execution_count": 88,
   "id": "c3ca815d",
   "metadata": {},
   "outputs": [
    {
     "name": "stdout",
     "output_type": "stream",
     "text": [
      "hello world\n"
     ]
    }
   ],
   "source": [
    "def function1():\n",
    "    print(\"hello world\")\n",
    "\n",
    "function1()    "
   ]
  },
  {
   "cell_type": "code",
   "execution_count": 89,
   "id": "50c06522",
   "metadata": {},
   "outputs": [
    {
     "name": "stdout",
     "output_type": "stream",
     "text": [
      "write your name: Omar\n",
      "Omar\n"
     ]
    }
   ],
   "source": [
    "def name(x):\n",
    "    print(x)\n",
    "\n",
    "x= input(\"write your name: \")\n",
    "name(x)"
   ]
  },
  {
   "cell_type": "code",
   "execution_count": null,
   "id": "3ef42834",
   "metadata": {},
   "outputs": [],
   "source": []
  }
 ],
 "metadata": {
  "kernelspec": {
   "display_name": "Python 3 (ipykernel)",
   "language": "python",
   "name": "python3"
  },
  "language_info": {
   "codemirror_mode": {
    "name": "ipython",
    "version": 3
   },
   "file_extension": ".py",
   "mimetype": "text/x-python",
   "name": "python",
   "nbconvert_exporter": "python",
   "pygments_lexer": "ipython3",
   "version": "3.10.6"
  }
 },
 "nbformat": 4,
 "nbformat_minor": 5
}
